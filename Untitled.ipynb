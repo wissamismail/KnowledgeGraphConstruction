{
 "cells": [
  {
   "cell_type": "code",
   "execution_count": null,
   "id": "1b34cdd8-b9ce-4dda-8549-e8ce2971d44d",
   "metadata": {},
   "outputs": [],
   "source": [
    "import json\n",
    "\n",
    "error_log_path = './myResult/Using_NLTK/error_log.txt'\n",
    "with open('your_file.json', 'r') as f:\n",
    "  data = json.load(f)\n",
    "\n",
    "del data[\"stem\"]  # Delete the \"stem\" key from the dictionary\n",
    "\n",
    "with open('output_file.json', 'w') as f:\n",
    "  json.dump(data, f, indent=4)  # Write the modified data to a new file with indentation\n"
   ]
  },
  {
   "cell_type": "code",
   "execution_count": 12,
   "id": "3191cc53-4c28-4b79-a58f-1352b663abe1",
   "metadata": {},
   "outputs": [
    {
     "name": "stdout",
     "output_type": "stream",
     "text": [
      "dataset_name = financial.json\n",
      "GPT-4\n"
     ]
    },
    {
     "ename": "KeyError",
     "evalue": "'stem'",
     "output_type": "error",
     "traceback": [
      "\u001b[1;31m---------------------------------------------------------------------------\u001b[0m",
      "\u001b[1;31mKeyError\u001b[0m                                  Traceback (most recent call last)",
      "Cell \u001b[1;32mIn[12], line 21\u001b[0m\n\u001b[0;32m     19\u001b[0m     \u001b[38;5;28mprint\u001b[39m(\u001b[38;5;124m\"\u001b[39m\u001b[38;5;124mGPT-4\u001b[39m\u001b[38;5;124m\"\u001b[39m)\n\u001b[0;32m     20\u001b[0m     data \u001b[38;5;241m=\u001b[39m json\u001b[38;5;241m.\u001b[39mload(f)            \n\u001b[1;32m---> 21\u001b[0m     \u001b[38;5;28;01mdel\u001b[39;00m \u001b[43mdata\u001b[49m\u001b[43m[\u001b[49m\u001b[38;5;124;43m\"\u001b[39;49m\u001b[38;5;124;43mstem\u001b[39;49m\u001b[38;5;124;43m\"\u001b[39;49m\u001b[43m]\u001b[49m  \u001b[38;5;66;03m# Delete the \"stem\" key from the dictionary          \u001b[39;00m\n\u001b[0;32m     22\u001b[0m \u001b[38;5;28;01mwith\u001b[39;00m \u001b[38;5;28mopen\u001b[39m(\u001b[38;5;124m'\u001b[39m\u001b[38;5;124moutput_file.json\u001b[39m\u001b[38;5;124m'\u001b[39m, \u001b[38;5;124m'\u001b[39m\u001b[38;5;124mw\u001b[39m\u001b[38;5;124m'\u001b[39m) \u001b[38;5;28;01mas\u001b[39;00m f:\n\u001b[0;32m     23\u001b[0m     json\u001b[38;5;241m.\u001b[39mdump(data, f, indent\u001b[38;5;241m=\u001b[39m\u001b[38;5;241m4\u001b[39m)  \u001b[38;5;66;03m# Write the modified data to a new file with indentation\u001b[39;00m\n",
      "\u001b[1;31mKeyError\u001b[0m: 'stem'"
     ]
    }
   ],
   "source": [
    "import json, os\n",
    "from os import path\n",
    "\n",
    "dataset_names = [\n",
    "    \"financial.json\",\n",
    "    \"literature.json\",\n",
    "    \"medical.json\",\n",
    "    \"movies.json\",\n",
    "    \"news.json\",\n",
    "]\n",
    "models = [\"GPT-4\", \"SpaCy\", \"NLTK\", \"LLAMA3\"]\n",
    "results = {}\n",
    "directory = \"./myResult/\"\n",
    "\n",
    "for dataset_name in dataset_names:\n",
    "    loaded_data = {}    \n",
    "    print(\"dataset_name = \" + dataset_name)\n",
    "    with open(path.join(directory, 'Using_' + \"GPT-4\", dataset_name), \"r\",encoding=\"utf-8\") as f:\n",
    "        print(\"GPT-4\")\n",
    "        data = json.load(f)            \n",
    "        del data[\"stem\"]  # Delete the \"stem\" key from the dictionary          \n",
    "    with open('output_file.json', 'w') as f:\n",
    "        json.dump(data, f, indent=4)  # Write the modified data to a new file with indentation\n",
    "\n",
    "    with open(path.join(directory, 'Using_' + \"LLAMA3\", dataset_name), \"r\",encoding=\"utf-8\") as f:\n",
    "        print(\"LLAMA3\")        \n",
    "        data = json.load(f)            \n",
    "        del data[\"stem\"]  # Delete the \"stem\" key from the dictionary          \n",
    "    with open('output_file.json', 'w') as f:\n",
    "        json.dump(data, f, indent=4)  # Write the modified data to a new file with indentation\n",
    "\n",
    "    with open(path.join(directory, 'Using_' + \"NLTK\", dataset_name), \"r\",encoding=\"utf-8\") as f:\n",
    "        print(\"NLTK\")        \n",
    "        data = json.load(f)            \n",
    "        del data[\"stem\"]  # Delete the \"stem\" key from the dictionary          \n",
    "    with open('output_file.json', 'w') as f:\n",
    "        json.dump(data, f, indent=4)  # Write the modified data to a new file with indentation\n",
    "\n",
    "    with open(path.join(directory, 'Using_' + \"Spacy\", dataset_name), \"r\",encoding=\"utf-8\") as f:\n",
    "        print(\"Spacy\")        \n",
    "        data = json.load(f)            \n",
    "        del data[\"stem\"]  # Delete the \"stem\" key from the dictionary          \n",
    "    with open('output_file.json', 'w') as f:\n",
    "        json.dump(data, f, indent=4)  # Write the modified data to a new file with indentation\n",
    "  "
   ]
  },
  {
   "cell_type": "code",
   "execution_count": null,
   "id": "9985c8ed-d6b3-4ac3-89f5-649539775e3a",
   "metadata": {},
   "outputs": [],
   "source": []
  }
 ],
 "metadata": {
  "kernelspec": {
   "display_name": "Python 3 (ipykernel)",
   "language": "python",
   "name": "python3"
  },
  "language_info": {
   "codemirror_mode": {
    "name": "ipython",
    "version": 3
   },
   "file_extension": ".py",
   "mimetype": "text/x-python",
   "name": "python",
   "nbconvert_exporter": "python",
   "pygments_lexer": "ipython3",
   "version": "3.12.3"
  }
 },
 "nbformat": 4,
 "nbformat_minor": 5
}
