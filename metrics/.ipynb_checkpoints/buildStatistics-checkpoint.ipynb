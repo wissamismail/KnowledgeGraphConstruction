{
 "cells": [
  {
   "cell_type": "code",
   "execution_count": null,
   "id": "d7bbfc2a-f480-4769-8cd9-865c2346e49b",
   "metadata": {},
   "outputs": [],
   "source": [
    "import json\n",
    "from os import path"
   ]
  },
  {
   "cell_type": "code",
   "execution_count": null,
   "id": "71fc7bd3-612a-4179-b863-1a34c28454e1",
   "metadata": {},
   "outputs": [],
   "source": [
    "directory = \"E:/workspaces/RDF/TTtoRDF/TEXTtoKG/\"\n",
    "dataset_names = [\n",
    "    \"literature.json\",\n",
    "    \"medical-articles.json\",\n",
    "    \"moviescripts.json\",\n",
    "    \"news-press-releases.json\",\n",
    "]\n",
    "\n",
    "models = [\"GPT-4\", \"SpaCy\", \"NLTK\", \"LLAMA3\"]\n",
    "\n",
    "metrics = {\n",
    "    \"totalSVOs\": lambda data: getAllSVOs.total_svos(data),\n",
    "    \"commonVerbs\": lambda data: getVerbs.common_verbs(data),\n",
    "    \"commonStem\": lambda data: getStems.common_stem(data),\n",
    "    \"commonObject\": lambda data: getObjects.common_objects(data),\n",
    "}\n",
    "\n",
    "results = {}"
   ]
  },
  {
   "cell_type": "code",
   "execution_count": null,
   "id": "f96d0695-bbe3-400e-9d59-540ae39ecb58",
   "metadata": {},
   "outputs": [],
   "source": [
    "for dataset_name in dataset_names:\n",
    "    loaded_data = {}\n",
    "\n",
    "    for model in models:\n",
    "        print(path.join(directory, 'myResult/Using_' + model, dataset_name))\n",
    "        with open(path.join(directory,  'myResult/Using_' + model, dataset_name), \"r\",encoding=\"utf-8\") as f:\n",
    "            loaded_data[model] = json.load(f)\n",
    "\n",
    "\n",
    "    for name, func in metrics.items():\n",
    "\n",
    "        if name not in results:\n",
    "            print(name + \": not in results\")\n",
    "            results[name] = {}\n",
    "        print(\"name: \" + name + \"-  dataset_name:\" + dataset_name)\n",
    "        results[name][dataset_name] = func(loaded_data)\n",
    "\n",
    "with open(path.join(directory, \"results.json\"), \"w\") as f:\n",
    "    json.dump(results, f, indent=2)\n",
    "\n",
    "print(\"Comparison complete. Results saved to results.json.\")"
   ]
  }
 ],
 "metadata": {
  "kernelspec": {
   "display_name": "Python 3 (ipykernel)",
   "language": "python",
   "name": "python3"
  },
  "language_info": {
   "codemirror_mode": {
    "name": "ipython",
    "version": 3
   },
   "file_extension": ".py",
   "mimetype": "text/x-python",
   "name": "python",
   "nbconvert_exporter": "python",
   "pygments_lexer": "ipython3",
   "version": "3.12.3"
  }
 },
 "nbformat": 4,
 "nbformat_minor": 5
}
