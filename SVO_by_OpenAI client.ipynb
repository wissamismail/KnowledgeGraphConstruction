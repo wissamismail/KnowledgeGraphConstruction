{
 "cells": [
  {
   "cell_type": "code",
   "execution_count": 3,
   "id": "2d2bb582-049b-469b-8ba7-33fad2f86767",
   "metadata": {},
   "outputs": [],
   "source": [
    "!pip install openai -q"
   ]
  },
  {
   "cell_type": "code",
   "execution_count": null,
   "id": "a3e31884-eb76-425e-bbda-6fed6f37d519",
   "metadata": {},
   "outputs": [],
   "source": [
    "from openai import OpenAI\n",
    "\n",
    "client = OpenAI(\n",
    "    # This is the default and can be omitted\n",
    "    api_key=\"<your_api_token>\",\n",
    "    base_url=\"https://api.llama-api.com\"\n",
    ")\n",
    "\n",
    "functions = [\n",
    "        {'name': 'information_extraction',\n",
    "         'description': 'Extracts the relevant information from the passage.',\n",
    "         'parameters': {\n",
    "             'type': 'object',\n",
    "             'properties': {\n",
    "                 'sentiment': {'title': 'sentiment', 'type': 'string', 'description': 'the sentiment encountered in the passage'},\n",
    "                 'aggressiveness': {'title': 'aggressiveness', 'type': 'integer', 'description': 'a 0-10 score of how aggressive the passage is'},\n",
    "                 'language': {'title': 'language', 'type': 'string', 'description': 'the language of the passage'},\n",
    "             }, 'required': []\n",
    "         }\n",
    "        }\n",
    "    ]\n",
    "\n",
    "\n",
    "chat_completion = client.chat.completions.create(\n",
    "    messages=[\n",
    "        {\n",
    "            \"role\": \"user\",\n",
    "            \"content\": \"What is the weather like in Boston?\",\n",
    "        }\n",
    "    ],\n",
    "    functions = functions,\n",
    "    model=\"llama3-70b\",\n",
    "    stream=False\n",
    ")\n",
    "\n",
    "print(chat_completion)"
   ]
  },
  {
   "cell_type": "code",
   "execution_count": null,
   "id": "b280c63d-43c3-4ff7-bb65-7cd2e396b768",
   "metadata": {},
   "outputs": [],
   "source": []
  }
 ],
 "metadata": {
  "kernelspec": {
   "display_name": "Python 3 (ipykernel)",
   "language": "python",
   "name": "python3"
  },
  "language_info": {
   "codemirror_mode": {
    "name": "ipython",
    "version": 3
   },
   "file_extension": ".py",
   "mimetype": "text/x-python",
   "name": "python",
   "nbconvert_exporter": "python",
   "pygments_lexer": "ipython3",
   "version": "3.12.3"
  }
 },
 "nbformat": 4,
 "nbformat_minor": 5
}
