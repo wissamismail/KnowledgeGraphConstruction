{
 "cells": [
  {
   "cell_type": "code",
   "execution_count": 44,
   "id": "536879bb-871c-4911-94b7-c8a86e215163",
   "metadata": {},
   "outputs": [],
   "source": [
    "import spacy\n",
    "import json\n",
    "import os"
   ]
  },
  {
   "cell_type": "code",
   "execution_count": 45,
   "id": "7756ad78-9e08-4942-b61b-b6a56d92f14f",
   "metadata": {},
   "outputs": [],
   "source": [
    "#python -m spacy download en_core_web_trf'"
   ]
  },
  {
   "cell_type": "code",
   "execution_count": 46,
   "id": "0285dd8a-4081-416b-b869-bacc92ecbbc0",
   "metadata": {},
   "outputs": [],
   "source": [
    "# Load spaCy model\n",
    "nlp = spacy.load('en_core_web_sm')"
   ]
  },
  {
   "cell_type": "code",
   "execution_count": 47,
   "id": "8f56f3d9-192c-4bdc-95ac-679347dcf0f1",
   "metadata": {},
   "outputs": [],
   "source": [
    "def return_subject(verb):\n",
    "    for possible_subject in verb.children:\n",
    "        if possible_subject.dep_ in ('nsubj', 'nsubjpass'):\n",
    "            return possible_subject\n",
    "    return None"
   ]
  },
  {
   "cell_type": "code",
   "execution_count": 48,
   "id": "028646ce-559d-4873-8794-8e22b4adc01b",
   "metadata": {},
   "outputs": [],
   "source": [
    "def return_object(verb):\n",
    "    for possible_object in verb.children:\n",
    "        if possible_object.dep_ in ('dobj', 'dative', 'pobj'):\n",
    "            if possible_object.dep_ == 'pobj' and possible_object.head.dep_ != 'prep':\n",
    "                continue\n",
    "            return possible_object\n",
    "    return None"
   ]
  },
  {
   "cell_type": "code",
   "execution_count": 49,
   "id": "c09c02bf-6e51-4ece-aff7-488918729b79",
   "metadata": {},
   "outputs": [],
   "source": [
    "def return_svo(text):\n",
    "    doc = nlp(text)\n",
    "    svos = []\n",
    "    for sent in doc.sents:\n",
    "        for possible_verb in sent:\n",
    "            if possible_verb.pos_ == 'VERB':\n",
    "                subj = return_subject(possible_verb)\n",
    "                obj = return_object(possible_verb)\n",
    "                if subj and obj:\n",
    "                    svos.append({\n",
    "                        \"subject\": subj.text,\n",
    "                        \"verb\": possible_verb.text,\n",
    "                        \"stem\": possible_verb.lemma_,\n",
    "                        \"object\": obj.text\n",
    "                    })\n",
    "    return svos"
   ]
  },
  {
   "cell_type": "code",
   "execution_count": 50,
   "id": "17c3e5eb-e149-492b-8ad9-7acff6b04fcb",
   "metadata": {},
   "outputs": [],
   "source": [
    " def iterate_category(category_name, category_prefix, error_log_path):\n",
    "    folder_path = f'./myDataset/{category_name}'  \n",
    "    files = sorted(os.listdir(folder_path))[:100]  \n",
    "    all_data = {}\n",
    "    errors = []\n",
    "    \n",
    "    for idx, file_name in enumerate(files, start=1):\n",
    "        file_path = os.path.join(folder_path, file_name)\n",
    "        try:\n",
    "            with open(file_path, 'r', encoding='utf-8') as file:\n",
    "                text = file.read()\n",
    "                svos = return_svo(text)\n",
    "                if svos:\n",
    "                    all_data[f\"{category_prefix}-{idx}\"] = {\n",
    "                        \"SVO_relationships\": svos,\n",
    "                        \"total_SVOs\": len(svos)\n",
    "                    }\n",
    "                else:\n",
    "                    errors.append(f\"No SVOs found in file {file_name} ({category_prefix}-{idx})\")\n",
    "        except Exception as e:\n",
    "            errors.append(f\"Error processing file {file_name} ({category_prefix}-{idx}): {str(e)}\")\n",
    "    \n",
    "    output_json_path = f'./myResult/Using_Spacy/{category_name}.json'  \n",
    "    os.makedirs(os.path.dirname(output_json_path), exist_ok=True)\n",
    "    with open(output_json_path, 'w', encoding='utf-8') as json_file:\n",
    "        json.dump(all_data, json_file, indent=4, ensure_ascii=False)\n",
    "    print(f\"SVOs for {category_name} saved to {output_json_path}\")\n",
    "\n",
    "    # Write errors to log file\n",
    "    with open(error_log_path, 'a', encoding='utf-8') as log_file:\n",
    "        for error in errors:\n",
    "            log_file.write(error + '\\n')\n",
    "    print(f\"Errors for {category_name} logged to {error_log_path}\")"
   ]
  },
  {
   "cell_type": "code",
   "execution_count": 51,
   "id": "0f9164d8-9600-47ea-aa39-1fd1846d5ca1",
   "metadata": {},
   "outputs": [
    {
     "name": "stdout",
     "output_type": "stream",
     "text": [
      "SVOs for financial saved to ./myResult/Using_Spacy/financial.json\n",
      "Errors for financial logged to ./myResult/Using_Spacy/error_log.txt\n",
      "SVOs for literature saved to ./myResult/Using_Spacy/literature.json\n",
      "Errors for literature logged to ./myResult/Using_Spacy/error_log.txt\n",
      "SVOs for medical saved to ./myResult/Using_Spacy/medical.json\n",
      "Errors for medical logged to ./myResult/Using_Spacy/error_log.txt\n",
      "SVOs for movies saved to ./myResult/Using_Spacy/movies.json\n",
      "Errors for movies logged to ./myResult/Using_Spacy/error_log.txt\n",
      "SVOs for news saved to ./myResult/Using_Spacy/news.json\n",
      "Errors for news logged to ./myResult/Using_Spacy/error_log.txt\n"
     ]
    }
   ],
   "source": [
    "# Error log path\n",
    "error_log_path = './myResult/Using_Spacy/error_log.txt'\n",
    "os.makedirs(os.path.dirname(error_log_path), exist_ok=True)\n",
    "\n",
    "# Categories and their prefixes\n",
    "categories = {\n",
    "    \"financial\": \"Fin\",\n",
    "    \"literature\": \"Lit\",\n",
    "    \"medical\": \"Med\",\n",
    "    \"movies\": \"Mov\",\n",
    "    \"news\": \"New\",\n",
    "}\n",
    "\n",
    "iterate_category(\"financial\", \"Fin\", error_log_path)\n",
    "iterate_category(\"literature\", \"Lit\", error_log_path)\n",
    "iterate_category(\"medical\", \"Med\", error_log_path)\n",
    "iterate_category(\"movies\", \"Mov\", error_log_path)\n",
    "iterate_category(\"news\", \"New\", error_log_path)"
   ]
  },
  {
   "cell_type": "code",
   "execution_count": null,
   "id": "08644ae0-8dd5-4b27-a66c-6ecde40f6311",
   "metadata": {},
   "outputs": [],
   "source": []
  }
 ],
 "metadata": {
  "kernelspec": {
   "display_name": "Python 3 (ipykernel)",
   "language": "python",
   "name": "python3"
  },
  "language_info": {
   "codemirror_mode": {
    "name": "ipython",
    "version": 3
   },
   "file_extension": ".py",
   "mimetype": "text/x-python",
   "name": "python",
   "nbconvert_exporter": "python",
   "pygments_lexer": "ipython3",
   "version": "3.12.3"
  }
 },
 "nbformat": 4,
 "nbformat_minor": 5
}
